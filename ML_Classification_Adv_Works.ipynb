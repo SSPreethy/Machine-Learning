{
  "cells": [
    {
      "metadata": {
        "trusted": true
      },
      "cell_type": "code",
      "source": "# import all the packages\n\nimport pandas as pd\nimport matplotlib.pyplot as plt\nimport seaborn as sns\nimport numpy as np\nimport numpy.random as nr\nimport math\nfrom datetime import datetime, date\n\nfrom sklearn import preprocessing\nimport sklearn.model_selection as ms\nfrom sklearn import linear_model\nimport sklearn.metrics as sklm\n\n%matplotlib inline\n",
      "execution_count": 1,
      "outputs": []
    },
    {
      "metadata": {
        "trusted": true
      },
      "cell_type": "code",
      "source": "#Read and combine the training files\n\nwork = pd.read_csv('AdvWorksCusts.csv')\nprint(work.shape)\navemon = pd.read_csv('AW_AveMonthSpend.csv')\nprint(avemon.shape)\nbikebuy = pd.read_csv('AW_BikeBuyer.csv')\nprint(bikebuy.shape)\n\nwork1 = pd.merge(work,avemon, how = 'inner', on = 'CustomerID')\nprint(work1.shape)\n\ntrain = pd.merge(work1,bikebuy, how = 'inner', on = 'CustomerID')\n\nprint(train.shape)\ntrain.head()\n\n#Read and combine the test files\ntest = pd.read_csv('AW_test.csv')\nprint(test.shape)\ntest.head()",
      "execution_count": 2,
      "outputs": [
        {
          "output_type": "stream",
          "text": "(16519, 23)\n(16519, 2)\n(16519, 2)\n(16749, 24)\n(17209, 25)\n(500, 23)\n",
          "name": "stdout"
        },
        {
          "output_type": "execute_result",
          "execution_count": 2,
          "data": {
            "text/html": "<div>\n<style scoped>\n    .dataframe tbody tr th:only-of-type {\n        vertical-align: middle;\n    }\n\n    .dataframe tbody tr th {\n        vertical-align: top;\n    }\n\n    .dataframe thead th {\n        text-align: right;\n    }\n</style>\n<table border=\"1\" class=\"dataframe\">\n  <thead>\n    <tr style=\"text-align: right;\">\n      <th></th>\n      <th>CustomerID</th>\n      <th>Title</th>\n      <th>FirstName</th>\n      <th>MiddleName</th>\n      <th>LastName</th>\n      <th>Suffix</th>\n      <th>AddressLine1</th>\n      <th>AddressLine2</th>\n      <th>City</th>\n      <th>StateProvinceName</th>\n      <th>...</th>\n      <th>BirthDate</th>\n      <th>Education</th>\n      <th>Occupation</th>\n      <th>Gender</th>\n      <th>MaritalStatus</th>\n      <th>HomeOwnerFlag</th>\n      <th>NumberCarsOwned</th>\n      <th>NumberChildrenAtHome</th>\n      <th>TotalChildren</th>\n      <th>YearlyIncome</th>\n    </tr>\n  </thead>\n  <tbody>\n    <tr>\n      <th>0</th>\n      <td>18988</td>\n      <td>NaN</td>\n      <td>Courtney</td>\n      <td>A</td>\n      <td>Baker</td>\n      <td>NaN</td>\n      <td>8727 Buena Vista Ave.</td>\n      <td>NaN</td>\n      <td>Fremont</td>\n      <td>California</td>\n      <td>...</td>\n      <td>1/5/1945</td>\n      <td>Bachelors</td>\n      <td>Management</td>\n      <td>F</td>\n      <td>S</td>\n      <td>0</td>\n      <td>2</td>\n      <td>0</td>\n      <td>5</td>\n      <td>86931</td>\n    </tr>\n    <tr>\n      <th>1</th>\n      <td>29135</td>\n      <td>NaN</td>\n      <td>Adam</td>\n      <td>C</td>\n      <td>Allen</td>\n      <td>NaN</td>\n      <td>3491 Cook Street</td>\n      <td>NaN</td>\n      <td>Haney</td>\n      <td>British Columbia</td>\n      <td>...</td>\n      <td>10/4/1964</td>\n      <td>Bachelors</td>\n      <td>Skilled Manual</td>\n      <td>M</td>\n      <td>M</td>\n      <td>1</td>\n      <td>2</td>\n      <td>2</td>\n      <td>4</td>\n      <td>100125</td>\n    </tr>\n    <tr>\n      <th>2</th>\n      <td>12156</td>\n      <td>NaN</td>\n      <td>Bonnie</td>\n      <td>NaN</td>\n      <td>Raji</td>\n      <td>NaN</td>\n      <td>359 Pleasant Hill Rd</td>\n      <td>NaN</td>\n      <td>Burbank</td>\n      <td>California</td>\n      <td>...</td>\n      <td>1/12/1934</td>\n      <td>Graduate Degree</td>\n      <td>Management</td>\n      <td>F</td>\n      <td>M</td>\n      <td>1</td>\n      <td>2</td>\n      <td>0</td>\n      <td>4</td>\n      <td>103985</td>\n    </tr>\n    <tr>\n      <th>3</th>\n      <td>13749</td>\n      <td>NaN</td>\n      <td>Julio</td>\n      <td>C</td>\n      <td>Alonso</td>\n      <td>NaN</td>\n      <td>8945 Euclid Ave.</td>\n      <td>NaN</td>\n      <td>Burlingame</td>\n      <td>California</td>\n      <td>...</td>\n      <td>9/22/1958</td>\n      <td>Graduate Degree</td>\n      <td>Skilled Manual</td>\n      <td>M</td>\n      <td>M</td>\n      <td>1</td>\n      <td>0</td>\n      <td>0</td>\n      <td>4</td>\n      <td>127161</td>\n    </tr>\n    <tr>\n      <th>4</th>\n      <td>27780</td>\n      <td>NaN</td>\n      <td>Christy</td>\n      <td>A</td>\n      <td>Andersen</td>\n      <td>NaN</td>\n      <td>42, boulevard Tremblay</td>\n      <td>NaN</td>\n      <td>Dunkerque</td>\n      <td>Nord</td>\n      <td>...</td>\n      <td>3/19/1965</td>\n      <td>High School</td>\n      <td>Manual</td>\n      <td>F</td>\n      <td>M</td>\n      <td>1</td>\n      <td>1</td>\n      <td>2</td>\n      <td>2</td>\n      <td>21876</td>\n    </tr>\n  </tbody>\n</table>\n<p>5 rows × 23 columns</p>\n</div>",
            "text/plain": "   CustomerID Title FirstName MiddleName  LastName Suffix  \\\n0       18988   NaN  Courtney          A     Baker    NaN   \n1       29135   NaN      Adam          C     Allen    NaN   \n2       12156   NaN    Bonnie        NaN      Raji    NaN   \n3       13749   NaN     Julio          C    Alonso    NaN   \n4       27780   NaN   Christy          A  Andersen    NaN   \n\n             AddressLine1 AddressLine2        City StateProvinceName  \\\n0   8727 Buena Vista Ave.          NaN     Fremont        California   \n1        3491 Cook Street          NaN       Haney  British Columbia   \n2    359 Pleasant Hill Rd          NaN     Burbank        California   \n3        8945 Euclid Ave.          NaN  Burlingame        California   \n4  42, boulevard Tremblay          NaN   Dunkerque              Nord   \n\n       ...       BirthDate        Education      Occupation Gender  \\\n0      ...        1/5/1945       Bachelors       Management      F   \n1      ...       10/4/1964       Bachelors   Skilled Manual      M   \n2      ...       1/12/1934  Graduate Degree      Management      F   \n3      ...       9/22/1958  Graduate Degree  Skilled Manual      M   \n4      ...       3/19/1965      High School          Manual      F   \n\n  MaritalStatus HomeOwnerFlag NumberCarsOwned NumberChildrenAtHome  \\\n0             S             0               2                    0   \n1             M             1               2                    2   \n2             M             1               2                    0   \n3             M             1               0                    0   \n4             M             1               1                    2   \n\n   TotalChildren  YearlyIncome  \n0              5         86931  \n1              4        100125  \n2              4        103985  \n3              4        127161  \n4              2         21876  \n\n[5 rows x 23 columns]"
          },
          "metadata": {}
        }
      ]
    },
    {
      "metadata": {
        "trusted": true
      },
      "cell_type": "code",
      "source": "#drop unnecessary column - training dataset\n\ntrain.drop(['Title'], axis=1, inplace=True)\ntrain.drop(['MiddleName'], axis=1, inplace=True)\ntrain.drop(['AddressLine2'], axis=1, inplace=True)\ntrain.drop(['Suffix'], axis=1, inplace=True)\n\nprint(train.shape)\ntrain.head()\n\n#drop unnecessary column - testing dataset\n\ntest.drop(['Title'], axis=1, inplace=True)\ntest.drop(['MiddleName'], axis=1, inplace=True)\ntest.drop(['AddressLine2'], axis=1, inplace=True)\ntest.drop(['Suffix'], axis=1, inplace=True)\n\nprint(test.shape)\ntest.head()",
      "execution_count": 3,
      "outputs": [
        {
          "output_type": "stream",
          "text": "(17209, 21)\n(500, 19)\n",
          "name": "stdout"
        },
        {
          "output_type": "execute_result",
          "execution_count": 3,
          "data": {
            "text/html": "<div>\n<style scoped>\n    .dataframe tbody tr th:only-of-type {\n        vertical-align: middle;\n    }\n\n    .dataframe tbody tr th {\n        vertical-align: top;\n    }\n\n    .dataframe thead th {\n        text-align: right;\n    }\n</style>\n<table border=\"1\" class=\"dataframe\">\n  <thead>\n    <tr style=\"text-align: right;\">\n      <th></th>\n      <th>CustomerID</th>\n      <th>FirstName</th>\n      <th>LastName</th>\n      <th>AddressLine1</th>\n      <th>City</th>\n      <th>StateProvinceName</th>\n      <th>CountryRegionName</th>\n      <th>PostalCode</th>\n      <th>PhoneNumber</th>\n      <th>BirthDate</th>\n      <th>Education</th>\n      <th>Occupation</th>\n      <th>Gender</th>\n      <th>MaritalStatus</th>\n      <th>HomeOwnerFlag</th>\n      <th>NumberCarsOwned</th>\n      <th>NumberChildrenAtHome</th>\n      <th>TotalChildren</th>\n      <th>YearlyIncome</th>\n    </tr>\n  </thead>\n  <tbody>\n    <tr>\n      <th>0</th>\n      <td>18988</td>\n      <td>Courtney</td>\n      <td>Baker</td>\n      <td>8727 Buena Vista Ave.</td>\n      <td>Fremont</td>\n      <td>California</td>\n      <td>United States</td>\n      <td>94536</td>\n      <td>133-555-0128</td>\n      <td>1/5/1945</td>\n      <td>Bachelors</td>\n      <td>Management</td>\n      <td>F</td>\n      <td>S</td>\n      <td>0</td>\n      <td>2</td>\n      <td>0</td>\n      <td>5</td>\n      <td>86931</td>\n    </tr>\n    <tr>\n      <th>1</th>\n      <td>29135</td>\n      <td>Adam</td>\n      <td>Allen</td>\n      <td>3491 Cook Street</td>\n      <td>Haney</td>\n      <td>British Columbia</td>\n      <td>Canada</td>\n      <td>V2W 1W2</td>\n      <td>252-555-0173</td>\n      <td>10/4/1964</td>\n      <td>Bachelors</td>\n      <td>Skilled Manual</td>\n      <td>M</td>\n      <td>M</td>\n      <td>1</td>\n      <td>2</td>\n      <td>2</td>\n      <td>4</td>\n      <td>100125</td>\n    </tr>\n    <tr>\n      <th>2</th>\n      <td>12156</td>\n      <td>Bonnie</td>\n      <td>Raji</td>\n      <td>359 Pleasant Hill Rd</td>\n      <td>Burbank</td>\n      <td>California</td>\n      <td>United States</td>\n      <td>91502</td>\n      <td>409-555-0193</td>\n      <td>1/12/1934</td>\n      <td>Graduate Degree</td>\n      <td>Management</td>\n      <td>F</td>\n      <td>M</td>\n      <td>1</td>\n      <td>2</td>\n      <td>0</td>\n      <td>4</td>\n      <td>103985</td>\n    </tr>\n    <tr>\n      <th>3</th>\n      <td>13749</td>\n      <td>Julio</td>\n      <td>Alonso</td>\n      <td>8945 Euclid Ave.</td>\n      <td>Burlingame</td>\n      <td>California</td>\n      <td>United States</td>\n      <td>94010</td>\n      <td>175-555-0196</td>\n      <td>9/22/1958</td>\n      <td>Graduate Degree</td>\n      <td>Skilled Manual</td>\n      <td>M</td>\n      <td>M</td>\n      <td>1</td>\n      <td>0</td>\n      <td>0</td>\n      <td>4</td>\n      <td>127161</td>\n    </tr>\n    <tr>\n      <th>4</th>\n      <td>27780</td>\n      <td>Christy</td>\n      <td>Andersen</td>\n      <td>42, boulevard Tremblay</td>\n      <td>Dunkerque</td>\n      <td>Nord</td>\n      <td>France</td>\n      <td>59140</td>\n      <td>1 (11) 500 555-0122</td>\n      <td>3/19/1965</td>\n      <td>High School</td>\n      <td>Manual</td>\n      <td>F</td>\n      <td>M</td>\n      <td>1</td>\n      <td>1</td>\n      <td>2</td>\n      <td>2</td>\n      <td>21876</td>\n    </tr>\n  </tbody>\n</table>\n</div>",
            "text/plain": "   CustomerID FirstName  LastName            AddressLine1        City  \\\n0       18988  Courtney     Baker   8727 Buena Vista Ave.     Fremont   \n1       29135      Adam     Allen        3491 Cook Street       Haney   \n2       12156    Bonnie      Raji    359 Pleasant Hill Rd     Burbank   \n3       13749     Julio    Alonso        8945 Euclid Ave.  Burlingame   \n4       27780   Christy  Andersen  42, boulevard Tremblay   Dunkerque   \n\n  StateProvinceName CountryRegionName PostalCode          PhoneNumber  \\\n0        California     United States      94536         133-555-0128   \n1  British Columbia            Canada    V2W 1W2         252-555-0173   \n2        California     United States      91502         409-555-0193   \n3        California     United States      94010         175-555-0196   \n4              Nord            France      59140  1 (11) 500 555-0122   \n\n   BirthDate        Education      Occupation Gender MaritalStatus  \\\n0   1/5/1945       Bachelors       Management      F             S   \n1  10/4/1964       Bachelors   Skilled Manual      M             M   \n2  1/12/1934  Graduate Degree      Management      F             M   \n3  9/22/1958  Graduate Degree  Skilled Manual      M             M   \n4  3/19/1965      High School          Manual      F             M   \n\n   HomeOwnerFlag  NumberCarsOwned  NumberChildrenAtHome  TotalChildren  \\\n0              0                2                     0              5   \n1              1                2                     2              4   \n2              1                2                     0              4   \n3              1                0                     0              4   \n4              1                1                     2              2   \n\n   YearlyIncome  \n0         86931  \n1        100125  \n2        103985  \n3        127161  \n4         21876  "
          },
          "metadata": {}
        }
      ]
    },
    {
      "metadata": {
        "trusted": true
      },
      "cell_type": "code",
      "source": "#check unique rows - Train\nprint(train.shape)\nprint(train.CustomerID.unique().shape)\n\n#drop duplicates - Train\ntrain.drop_duplicates(subset='CustomerID',keep='first',inplace=True)\n\n#check unique rows - Train\nprint(train.shape)\nprint(train.CustomerID.unique().shape)\n\n#check unique rows - Test\nprint(test.shape)\nprint(test.CustomerID.unique().shape)\n\n#drop duplicates - Test\ntest.drop_duplicates(subset='CustomerID',keep='first',inplace=True)\n\n#check unique rows - Test\nprint(test.shape)\nprint(test.CustomerID.unique().shape)\n",
      "execution_count": 4,
      "outputs": [
        {
          "output_type": "stream",
          "text": "(17209, 21)\n(16404,)\n(16404, 21)\n(16404,)\n(500, 19)\n(500,)\n(500, 19)\n(500,)\n",
          "name": "stdout"
        }
      ]
    },
    {
      "metadata": {
        "trusted": true
      },
      "cell_type": "code",
      "source": "#calculating age from birthdate and assigning to bins - train\n\ntrain.dtypes\ntrain['BirthDate'] = pd.to_datetime(train['BirthDate'])\ntoday = datetime.strptime('01 01 1998', \"%d %m %Y\")\ntrain['age'] = (today - train['BirthDate']).astype('>m8[Y]')\ntrain['age'] = pd.to_numeric(train['age'])\n\nbins = [0, 25, 45, 55, 100]\nnames = ['<25', '25-45', '45-55', '>55']\n\ntrain['AgeRange'] = pd.cut(train['age'], bins, labels=names)\ntrain['AgeRange'] = train['AgeRange'].astype('str')\n\ntrain['agegender'] = train['AgeRange']+train['Gender']\nprint(train.dtypes)\n\n#calculating age from birthdate and assigning to bins - test\n\ntest.dtypes\ntest['BirthDate'] = pd.to_datetime(test['BirthDate'])\ntoday = datetime.strptime('01 01 1998', \"%d %m %Y\")\ntest['age'] = (today - test['BirthDate']).astype('>m8[Y]')\ntest['age'] = pd.to_numeric(test['age'])\n\n#bins = [0, 25, 45, 55, 100]\n#names = ['<25', '25-45', '45-55', '>55']\n\ntest['AgeRange'] = pd.cut(test['age'], bins, labels=names)\ntest['AgeRange'] = test['AgeRange'].astype('str')\n\ntest['agegender'] = test['AgeRange']+test['Gender']\nprint(test.dtypes)",
      "execution_count": 5,
      "outputs": [
        {
          "output_type": "stream",
          "text": "CustomerID                       int64\nFirstName                       object\nLastName                        object\nAddressLine1                    object\nCity                            object\nStateProvinceName               object\nCountryRegionName               object\nPostalCode                      object\nPhoneNumber                     object\nBirthDate               datetime64[ns]\nEducation                       object\nOccupation                      object\nGender                          object\nMaritalStatus                   object\nHomeOwnerFlag                    int64\nNumberCarsOwned                  int64\nNumberChildrenAtHome             int64\nTotalChildren                    int64\nYearlyIncome                     int64\nAveMonthSpend                    int64\nBikeBuyer                        int64\nage                            float64\nAgeRange                        object\nagegender                       object\ndtype: object\nCustomerID                       int64\nFirstName                       object\nLastName                        object\nAddressLine1                    object\nCity                            object\nStateProvinceName               object\nCountryRegionName               object\nPostalCode                      object\nPhoneNumber                     object\nBirthDate               datetime64[ns]\nEducation                       object\nOccupation                      object\nGender                          object\nMaritalStatus                   object\nHomeOwnerFlag                    int64\nNumberCarsOwned                  int64\nNumberChildrenAtHome             int64\nTotalChildren                    int64\nYearlyIncome                     int64\nage                            float64\nAgeRange                        object\nagegender                       object\ndtype: object\n",
          "name": "stdout"
        }
      ]
    },
    {
      "metadata": {
        "trusted": true
      },
      "cell_type": "code",
      "source": "#define label to be predicted\nlabels = np.array(train['BikeBuyer'])\n\n#one hot encoding for categorical data \n\ndef encode_string(cat_features):\n    \n    enc = preprocessing.LabelEncoder()\n    enc.fit(cat_features)\n    enc_cat_features = enc.transform(cat_features)\n    \n    ## Now, apply one hot encoding\n    \n    ohe = preprocessing.OneHotEncoder()\n    encoded = ohe.fit(enc_cat_features.reshape(-1,1))\n    return encoded.transform(enc_cat_features.reshape(-1,1)).toarray()\n\n# encoding training data\ncategorical_columns = ['Gender', 'MaritalStatus']\n\nFeatures = encode_string(train['Occupation'])\nfor col in categorical_columns:\n    temp = encode_string(train[col])\n    Features = np.concatenate([Features, temp], axis = 1)\n\nFeatures = np.concatenate([Features, np.array(train[['NumberCarsOwned', 'NumberChildrenAtHome', \n                            'TotalChildren', 'YearlyIncome','age']])], axis = 1)    \n\n# encoding testing data\ncategorical_columns = ['Gender', 'MaritalStatus']\n\nTest_Features = encode_string(test['Occupation'])\nfor col in categorical_columns:\n    temp = encode_string(test[col])\n    Test_Features = np.concatenate([Test_Features, temp], axis = 1)\n\nTest_Features = np.concatenate([Test_Features, np.array(test[['NumberCarsOwned', 'NumberChildrenAtHome', \n                            'TotalChildren', 'YearlyIncome','age']])], axis = 1)    \n\n\n#defining training data\ntrain_data = Features\n\n\n#defining testing data\ntest_data = Test_Features",
      "execution_count": 6,
      "outputs": [
        {
          "output_type": "stream",
          "text": "/home/nbuser/anaconda3_501/lib/python3.6/site-packages/sklearn/preprocessing/_encoders.py:371: FutureWarning: The handling of integer data will change in version 0.22. Currently, the categories are determined based on the range [0, max(values)], while in the future they will be determined based on the unique values.\nIf you want the future behaviour and silence this warning, you can specify \"categories='auto'\".\nIn case you used a LabelEncoder before this OneHotEncoder to convert the categories to integers, then you can now use the OneHotEncoder directly.\n  warnings.warn(msg, FutureWarning)\n/home/nbuser/anaconda3_501/lib/python3.6/site-packages/sklearn/preprocessing/_encoders.py:371: FutureWarning: The handling of integer data will change in version 0.22. Currently, the categories are determined based on the range [0, max(values)], while in the future they will be determined based on the unique values.\nIf you want the future behaviour and silence this warning, you can specify \"categories='auto'\".\nIn case you used a LabelEncoder before this OneHotEncoder to convert the categories to integers, then you can now use the OneHotEncoder directly.\n  warnings.warn(msg, FutureWarning)\n/home/nbuser/anaconda3_501/lib/python3.6/site-packages/sklearn/preprocessing/_encoders.py:371: FutureWarning: The handling of integer data will change in version 0.22. Currently, the categories are determined based on the range [0, max(values)], while in the future they will be determined based on the unique values.\nIf you want the future behaviour and silence this warning, you can specify \"categories='auto'\".\nIn case you used a LabelEncoder before this OneHotEncoder to convert the categories to integers, then you can now use the OneHotEncoder directly.\n  warnings.warn(msg, FutureWarning)\n/home/nbuser/anaconda3_501/lib/python3.6/site-packages/sklearn/preprocessing/_encoders.py:371: FutureWarning: The handling of integer data will change in version 0.22. Currently, the categories are determined based on the range [0, max(values)], while in the future they will be determined based on the unique values.\nIf you want the future behaviour and silence this warning, you can specify \"categories='auto'\".\nIn case you used a LabelEncoder before this OneHotEncoder to convert the categories to integers, then you can now use the OneHotEncoder directly.\n  warnings.warn(msg, FutureWarning)\n/home/nbuser/anaconda3_501/lib/python3.6/site-packages/sklearn/preprocessing/_encoders.py:371: FutureWarning: The handling of integer data will change in version 0.22. Currently, the categories are determined based on the range [0, max(values)], while in the future they will be determined based on the unique values.\nIf you want the future behaviour and silence this warning, you can specify \"categories='auto'\".\nIn case you used a LabelEncoder before this OneHotEncoder to convert the categories to integers, then you can now use the OneHotEncoder directly.\n  warnings.warn(msg, FutureWarning)\n/home/nbuser/anaconda3_501/lib/python3.6/site-packages/sklearn/preprocessing/_encoders.py:371: FutureWarning: The handling of integer data will change in version 0.22. Currently, the categories are determined based on the range [0, max(values)], while in the future they will be determined based on the unique values.\nIf you want the future behaviour and silence this warning, you can specify \"categories='auto'\".\nIn case you used a LabelEncoder before this OneHotEncoder to convert the categories to integers, then you can now use the OneHotEncoder directly.\n  warnings.warn(msg, FutureWarning)\n",
          "name": "stderr"
        }
      ]
    },
    {
      "metadata": {
        "trusted": true
      },
      "cell_type": "code",
      "source": "#Train Model\nmodel = linear_model.LogisticRegression() \nmodel.fit(train_data, labels)",
      "execution_count": 7,
      "outputs": [
        {
          "output_type": "stream",
          "text": "/home/nbuser/anaconda3_501/lib/python3.6/site-packages/sklearn/linear_model/logistic.py:433: FutureWarning: Default solver will be changed to 'lbfgs' in 0.22. Specify a solver to silence this warning.\n  FutureWarning)\n",
          "name": "stderr"
        },
        {
          "output_type": "execute_result",
          "execution_count": 7,
          "data": {
            "text/plain": "LogisticRegression(C=1.0, class_weight=None, dual=False, fit_intercept=True,\n          intercept_scaling=1, max_iter=100, multi_class='warn',\n          n_jobs=None, penalty='l2', random_state=None, solver='warn',\n          tol=0.0001, verbose=0, warm_start=False)"
          },
          "metadata": {}
        }
      ]
    },
    {
      "metadata": {
        "trusted": true
      },
      "cell_type": "code",
      "source": "#Test Model\nprediction = model.predict(test_data)",
      "execution_count": 14,
      "outputs": []
    },
    {
      "metadata": {
        "trusted": true
      },
      "cell_type": "code",
      "source": "result = pd.DataFrame(prediction)\nresult.CustomerID=test.CustomerID\nresult.columns = [\"prediction\"]\nresult.to_csv(\"prediction_results.csv\")",
      "execution_count": 20,
      "outputs": [
        {
          "output_type": "stream",
          "text": "/home/nbuser/anaconda3_501/lib/python3.6/site-packages/ipykernel/__main__.py:2: UserWarning: Pandas doesn't allow columns to be created via a new attribute name - see https://pandas.pydata.org/pandas-docs/stable/indexing.html#attribute-access\n  from ipykernel import kernelapp as app\n",
          "name": "stderr"
        }
      ]
    },
    {
      "metadata": {
        "trusted": true
      },
      "cell_type": "code",
      "source": "",
      "execution_count": null,
      "outputs": []
    }
  ],
  "metadata": {
    "kernelspec": {
      "name": "python36",
      "display_name": "Python 3.6",
      "language": "python"
    },
    "language_info": {
      "mimetype": "text/x-python",
      "nbconvert_exporter": "python",
      "name": "python",
      "pygments_lexer": "ipython3",
      "version": "3.6.6",
      "file_extension": ".py",
      "codemirror_mode": {
        "version": 3,
        "name": "ipython"
      }
    }
  },
  "nbformat": 4,
  "nbformat_minor": 1
}